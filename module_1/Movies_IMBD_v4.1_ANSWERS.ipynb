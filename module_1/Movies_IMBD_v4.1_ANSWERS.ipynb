{
 "cells": [
  {
   "cell_type": "code",
   "execution_count": 1,
   "metadata": {
    "_cell_guid": "b1076dfc-b9ad-4769-8c92-a6c4dae69d19",
    "_uuid": "8f2839f25d086af736a60e9eeb907d3b93b6e0e5",
    "colab": {},
    "colab_type": "code",
    "id": "U2D2gTdJVp90"
   },
   "outputs": [],
   "source": [
    "import numpy as np\n",
    "import pandas as pd\n",
    "import seaborn as sns\n",
    "import matplotlib.pyplot as plt\n",
    "import collections\n",
    "import calendar"
   ]
  },
  {
   "cell_type": "code",
   "execution_count": 2,
   "metadata": {
    "_cell_guid": "79c7e3d0-c299-4dcb-8224-4455121ee9b0",
    "_uuid": "d629ff2d2480ee46fbb7e2d37f6b5fab8052498a",
    "colab": {},
    "colab_type": "code",
    "id": "oyGfxL3eVp9-"
   },
   "outputs": [
    {
     "data": {
      "text/html": [
       "<div>\n",
       "<style scoped>\n",
       "    .dataframe tbody tr th:only-of-type {\n",
       "        vertical-align: middle;\n",
       "    }\n",
       "\n",
       "    .dataframe tbody tr th {\n",
       "        vertical-align: top;\n",
       "    }\n",
       "\n",
       "    .dataframe thead th {\n",
       "        text-align: right;\n",
       "    }\n",
       "</style>\n",
       "<table border=\"1\" class=\"dataframe\">\n",
       "  <thead>\n",
       "    <tr style=\"text-align: right;\">\n",
       "      <th></th>\n",
       "      <th>imdb_id</th>\n",
       "      <th>budget</th>\n",
       "      <th>revenue</th>\n",
       "      <th>original_title</th>\n",
       "      <th>cast</th>\n",
       "      <th>director</th>\n",
       "      <th>tagline</th>\n",
       "      <th>overview</th>\n",
       "      <th>runtime</th>\n",
       "      <th>genres</th>\n",
       "      <th>production_companies</th>\n",
       "      <th>release_date</th>\n",
       "      <th>vote_average</th>\n",
       "      <th>release_year</th>\n",
       "    </tr>\n",
       "  </thead>\n",
       "  <tbody>\n",
       "    <tr>\n",
       "      <th>900</th>\n",
       "      <td>tt0257044</td>\n",
       "      <td>80000000</td>\n",
       "      <td>181001478</td>\n",
       "      <td>Road to Perdition</td>\n",
       "      <td>Tom Hanks|Tyler Hoechlin|Jennifer Jason Leigh|...</td>\n",
       "      <td>Sam Mendes</td>\n",
       "      <td>Pray for Michael Sullivan.</td>\n",
       "      <td>Mike Sullivan works as a hit man for crime bos...</td>\n",
       "      <td>117</td>\n",
       "      <td>Thriller|Crime|Drama</td>\n",
       "      <td>DreamWorks SKG|The Zanuck Company|Twentieth Ce...</td>\n",
       "      <td>7/12/2002</td>\n",
       "      <td>7.1</td>\n",
       "      <td>2002</td>\n",
       "    </tr>\n",
       "    <tr>\n",
       "      <th>1413</th>\n",
       "      <td>tt0388500</td>\n",
       "      <td>25000000</td>\n",
       "      <td>36351350</td>\n",
       "      <td>Beauty Shop</td>\n",
       "      <td>Queen Latifah|Alicia Silverstone|Andie MacDowe...</td>\n",
       "      <td>Bille Woodruff</td>\n",
       "      <td>A Cut Above</td>\n",
       "      <td>You thought you'd heard it all in the barbersh...</td>\n",
       "      <td>105</td>\n",
       "      <td>Comedy|Romance</td>\n",
       "      <td>Metro-Goldwyn-Mayer (MGM)</td>\n",
       "      <td>6/2/2005</td>\n",
       "      <td>5.1</td>\n",
       "      <td>2005</td>\n",
       "    </tr>\n",
       "    <tr>\n",
       "      <th>146</th>\n",
       "      <td>tt1528100</td>\n",
       "      <td>140000000</td>\n",
       "      <td>268031828</td>\n",
       "      <td>Exodus: Gods and Kings</td>\n",
       "      <td>Christian Bale|Joel Edgerton|John Turturro|Aar...</td>\n",
       "      <td>Ridley Scott</td>\n",
       "      <td>Once brothers, now enemies.</td>\n",
       "      <td>The defiant leader Moses rises up against the ...</td>\n",
       "      <td>153</td>\n",
       "      <td>Adventure|Drama|Action</td>\n",
       "      <td>Scott Free Productions|Chernin Entertainment|B...</td>\n",
       "      <td>12/3/2014</td>\n",
       "      <td>5.6</td>\n",
       "      <td>2014</td>\n",
       "    </tr>\n",
       "    <tr>\n",
       "      <th>1356</th>\n",
       "      <td>tt0430105</td>\n",
       "      <td>45000000</td>\n",
       "      <td>92374674</td>\n",
       "      <td>Four Brothers</td>\n",
       "      <td>Mark Wahlberg|Tyrese Gibson|AndrÃ© Benjamin|Ga...</td>\n",
       "      <td>John Singleton</td>\n",
       "      <td>They came home to bury mom... and her killer</td>\n",
       "      <td>Four adopted brothers return to their Detroit ...</td>\n",
       "      <td>109</td>\n",
       "      <td>Action|Crime</td>\n",
       "      <td>Paramount Pictures|Di Bonaventura Pictures</td>\n",
       "      <td>8/11/2005</td>\n",
       "      <td>6.6</td>\n",
       "      <td>2005</td>\n",
       "    </tr>\n",
       "    <tr>\n",
       "      <th>1553</th>\n",
       "      <td>tt0462519</td>\n",
       "      <td>20000000</td>\n",
       "      <td>17807569</td>\n",
       "      <td>School for Scoundrels</td>\n",
       "      <td>Billy Bob Thornton|Jon Heder|Jacinda Barrett|S...</td>\n",
       "      <td>Todd Phillips</td>\n",
       "      <td>Life's A Game. Learn How To Play.</td>\n",
       "      <td>A young guy short on luck, enrolls in a class ...</td>\n",
       "      <td>100</td>\n",
       "      <td>Comedy|Drama|Romance</td>\n",
       "      <td>Dimension Films</td>\n",
       "      <td>9/29/2006</td>\n",
       "      <td>5.5</td>\n",
       "      <td>2006</td>\n",
       "    </tr>\n",
       "  </tbody>\n",
       "</table>\n",
       "</div>"
      ],
      "text/plain": [
       "        imdb_id     budget    revenue          original_title  \\\n",
       "900   tt0257044   80000000  181001478       Road to Perdition   \n",
       "1413  tt0388500   25000000   36351350             Beauty Shop   \n",
       "146   tt1528100  140000000  268031828  Exodus: Gods and Kings   \n",
       "1356  tt0430105   45000000   92374674           Four Brothers   \n",
       "1553  tt0462519   20000000   17807569   School for Scoundrels   \n",
       "\n",
       "                                                   cast        director  \\\n",
       "900   Tom Hanks|Tyler Hoechlin|Jennifer Jason Leigh|...      Sam Mendes   \n",
       "1413  Queen Latifah|Alicia Silverstone|Andie MacDowe...  Bille Woodruff   \n",
       "146   Christian Bale|Joel Edgerton|John Turturro|Aar...    Ridley Scott   \n",
       "1356  Mark Wahlberg|Tyrese Gibson|AndrÃ© Benjamin|Ga...  John Singleton   \n",
       "1553  Billy Bob Thornton|Jon Heder|Jacinda Barrett|S...   Todd Phillips   \n",
       "\n",
       "                                           tagline  \\\n",
       "900                     Pray for Michael Sullivan.   \n",
       "1413                                   A Cut Above   \n",
       "146                    Once brothers, now enemies.   \n",
       "1356  They came home to bury mom... and her killer   \n",
       "1553             Life's A Game. Learn How To Play.   \n",
       "\n",
       "                                               overview  runtime  \\\n",
       "900   Mike Sullivan works as a hit man for crime bos...      117   \n",
       "1413  You thought you'd heard it all in the barbersh...      105   \n",
       "146   The defiant leader Moses rises up against the ...      153   \n",
       "1356  Four adopted brothers return to their Detroit ...      109   \n",
       "1553  A young guy short on luck, enrolls in a class ...      100   \n",
       "\n",
       "                      genres  \\\n",
       "900     Thriller|Crime|Drama   \n",
       "1413          Comedy|Romance   \n",
       "146   Adventure|Drama|Action   \n",
       "1356            Action|Crime   \n",
       "1553    Comedy|Drama|Romance   \n",
       "\n",
       "                                   production_companies release_date  \\\n",
       "900   DreamWorks SKG|The Zanuck Company|Twentieth Ce...    7/12/2002   \n",
       "1413                          Metro-Goldwyn-Mayer (MGM)     6/2/2005   \n",
       "146   Scott Free Productions|Chernin Entertainment|B...    12/3/2014   \n",
       "1356         Paramount Pictures|Di Bonaventura Pictures    8/11/2005   \n",
       "1553                                    Dimension Films    9/29/2006   \n",
       "\n",
       "      vote_average  release_year  \n",
       "900            7.1          2002  \n",
       "1413           5.1          2005  \n",
       "146            5.6          2014  \n",
       "1356           6.6          2005  \n",
       "1553           5.5          2006  "
      ]
     },
     "execution_count": 2,
     "metadata": {},
     "output_type": "execute_result"
    }
   ],
   "source": [
    "data = pd.read_csv('movie_bd_v5.csv')\n",
    "data.sample(5)"
   ]
  },
  {
   "cell_type": "code",
   "execution_count": 3,
   "metadata": {},
   "outputs": [
    {
     "data": {
      "text/html": [
       "<div>\n",
       "<style scoped>\n",
       "    .dataframe tbody tr th:only-of-type {\n",
       "        vertical-align: middle;\n",
       "    }\n",
       "\n",
       "    .dataframe tbody tr th {\n",
       "        vertical-align: top;\n",
       "    }\n",
       "\n",
       "    .dataframe thead th {\n",
       "        text-align: right;\n",
       "    }\n",
       "</style>\n",
       "<table border=\"1\" class=\"dataframe\">\n",
       "  <thead>\n",
       "    <tr style=\"text-align: right;\">\n",
       "      <th></th>\n",
       "      <th>imdb_id</th>\n",
       "      <th>budget</th>\n",
       "      <th>revenue</th>\n",
       "      <th>original_title</th>\n",
       "      <th>cast</th>\n",
       "      <th>director</th>\n",
       "      <th>tagline</th>\n",
       "      <th>overview</th>\n",
       "      <th>runtime</th>\n",
       "      <th>genres</th>\n",
       "      <th>production_companies</th>\n",
       "      <th>release_date</th>\n",
       "      <th>vote_average</th>\n",
       "      <th>release_year</th>\n",
       "    </tr>\n",
       "  </thead>\n",
       "  <tbody>\n",
       "    <tr>\n",
       "      <th>0</th>\n",
       "      <td>tt0369610</td>\n",
       "      <td>150000000</td>\n",
       "      <td>1513528810</td>\n",
       "      <td>Jurassic World</td>\n",
       "      <td>Chris Pratt|Bryce Dallas Howard|Irrfan Khan|Vi...</td>\n",
       "      <td>Colin Trevorrow</td>\n",
       "      <td>The park is open.</td>\n",
       "      <td>Twenty-two years after the events of Jurassic ...</td>\n",
       "      <td>124</td>\n",
       "      <td>Action|Adventure|Science Fiction|Thriller</td>\n",
       "      <td>Universal Studios|Amblin Entertainment|Legenda...</td>\n",
       "      <td>6/9/2015</td>\n",
       "      <td>6.5</td>\n",
       "      <td>2015</td>\n",
       "    </tr>\n",
       "    <tr>\n",
       "      <th>1</th>\n",
       "      <td>tt1392190</td>\n",
       "      <td>150000000</td>\n",
       "      <td>378436354</td>\n",
       "      <td>Mad Max: Fury Road</td>\n",
       "      <td>Tom Hardy|Charlize Theron|Hugh Keays-Byrne|Nic...</td>\n",
       "      <td>George Miller</td>\n",
       "      <td>What a Lovely Day.</td>\n",
       "      <td>An apocalyptic story set in the furthest reach...</td>\n",
       "      <td>120</td>\n",
       "      <td>Action|Adventure|Science Fiction|Thriller</td>\n",
       "      <td>Village Roadshow Pictures|Kennedy Miller Produ...</td>\n",
       "      <td>5/13/2015</td>\n",
       "      <td>7.1</td>\n",
       "      <td>2015</td>\n",
       "    </tr>\n",
       "    <tr>\n",
       "      <th>2</th>\n",
       "      <td>tt2908446</td>\n",
       "      <td>110000000</td>\n",
       "      <td>295238201</td>\n",
       "      <td>Insurgent</td>\n",
       "      <td>Shailene Woodley|Theo James|Kate Winslet|Ansel...</td>\n",
       "      <td>Robert Schwentke</td>\n",
       "      <td>One Choice Can Destroy You</td>\n",
       "      <td>Beatrice Prior must confront her inner demons ...</td>\n",
       "      <td>119</td>\n",
       "      <td>Adventure|Science Fiction|Thriller</td>\n",
       "      <td>Summit Entertainment|Mandeville Films|Red Wago...</td>\n",
       "      <td>3/18/2015</td>\n",
       "      <td>6.3</td>\n",
       "      <td>2015</td>\n",
       "    </tr>\n",
       "    <tr>\n",
       "      <th>3</th>\n",
       "      <td>tt2488496</td>\n",
       "      <td>200000000</td>\n",
       "      <td>2068178225</td>\n",
       "      <td>Star Wars: The Force Awakens</td>\n",
       "      <td>Harrison Ford|Mark Hamill|Carrie Fisher|Adam D...</td>\n",
       "      <td>J.J. Abrams</td>\n",
       "      <td>Every generation has a story.</td>\n",
       "      <td>Thirty years after defeating the Galactic Empi...</td>\n",
       "      <td>136</td>\n",
       "      <td>Action|Adventure|Science Fiction|Fantasy</td>\n",
       "      <td>Lucasfilm|Truenorth Productions|Bad Robot</td>\n",
       "      <td>12/15/2015</td>\n",
       "      <td>7.5</td>\n",
       "      <td>2015</td>\n",
       "    </tr>\n",
       "    <tr>\n",
       "      <th>4</th>\n",
       "      <td>tt2820852</td>\n",
       "      <td>190000000</td>\n",
       "      <td>1506249360</td>\n",
       "      <td>Furious 7</td>\n",
       "      <td>Vin Diesel|Paul Walker|Jason Statham|Michelle ...</td>\n",
       "      <td>James Wan</td>\n",
       "      <td>Vengeance Hits Home</td>\n",
       "      <td>Deckard Shaw seeks revenge against Dominic Tor...</td>\n",
       "      <td>137</td>\n",
       "      <td>Action|Crime|Thriller</td>\n",
       "      <td>Universal Pictures|Original Film|Media Rights ...</td>\n",
       "      <td>4/1/2015</td>\n",
       "      <td>7.3</td>\n",
       "      <td>2015</td>\n",
       "    </tr>\n",
       "  </tbody>\n",
       "</table>\n",
       "</div>"
      ],
      "text/plain": [
       "     imdb_id     budget     revenue                original_title  \\\n",
       "0  tt0369610  150000000  1513528810                Jurassic World   \n",
       "1  tt1392190  150000000   378436354            Mad Max: Fury Road   \n",
       "2  tt2908446  110000000   295238201                     Insurgent   \n",
       "3  tt2488496  200000000  2068178225  Star Wars: The Force Awakens   \n",
       "4  tt2820852  190000000  1506249360                     Furious 7   \n",
       "\n",
       "                                                cast          director  \\\n",
       "0  Chris Pratt|Bryce Dallas Howard|Irrfan Khan|Vi...   Colin Trevorrow   \n",
       "1  Tom Hardy|Charlize Theron|Hugh Keays-Byrne|Nic...     George Miller   \n",
       "2  Shailene Woodley|Theo James|Kate Winslet|Ansel...  Robert Schwentke   \n",
       "3  Harrison Ford|Mark Hamill|Carrie Fisher|Adam D...       J.J. Abrams   \n",
       "4  Vin Diesel|Paul Walker|Jason Statham|Michelle ...         James Wan   \n",
       "\n",
       "                         tagline  \\\n",
       "0              The park is open.   \n",
       "1             What a Lovely Day.   \n",
       "2     One Choice Can Destroy You   \n",
       "3  Every generation has a story.   \n",
       "4            Vengeance Hits Home   \n",
       "\n",
       "                                            overview  runtime  \\\n",
       "0  Twenty-two years after the events of Jurassic ...      124   \n",
       "1  An apocalyptic story set in the furthest reach...      120   \n",
       "2  Beatrice Prior must confront her inner demons ...      119   \n",
       "3  Thirty years after defeating the Galactic Empi...      136   \n",
       "4  Deckard Shaw seeks revenge against Dominic Tor...      137   \n",
       "\n",
       "                                      genres  \\\n",
       "0  Action|Adventure|Science Fiction|Thriller   \n",
       "1  Action|Adventure|Science Fiction|Thriller   \n",
       "2         Adventure|Science Fiction|Thriller   \n",
       "3   Action|Adventure|Science Fiction|Fantasy   \n",
       "4                      Action|Crime|Thriller   \n",
       "\n",
       "                                production_companies release_date  \\\n",
       "0  Universal Studios|Amblin Entertainment|Legenda...     6/9/2015   \n",
       "1  Village Roadshow Pictures|Kennedy Miller Produ...    5/13/2015   \n",
       "2  Summit Entertainment|Mandeville Films|Red Wago...    3/18/2015   \n",
       "3          Lucasfilm|Truenorth Productions|Bad Robot   12/15/2015   \n",
       "4  Universal Pictures|Original Film|Media Rights ...     4/1/2015   \n",
       "\n",
       "   vote_average  release_year  \n",
       "0           6.5          2015  \n",
       "1           7.1          2015  \n",
       "2           6.3          2015  \n",
       "3           7.5          2015  \n",
       "4           7.3          2015  "
      ]
     },
     "execution_count": 3,
     "metadata": {},
     "output_type": "execute_result"
    }
   ],
   "source": [
    "data.head()"
   ]
  },
  {
   "cell_type": "code",
   "execution_count": 4,
   "metadata": {
    "colab": {},
    "colab_type": "code",
    "id": "CoYUnagMVp-C"
   },
   "outputs": [
    {
     "data": {
      "text/html": [
       "<div>\n",
       "<style scoped>\n",
       "    .dataframe tbody tr th:only-of-type {\n",
       "        vertical-align: middle;\n",
       "    }\n",
       "\n",
       "    .dataframe tbody tr th {\n",
       "        vertical-align: top;\n",
       "    }\n",
       "\n",
       "    .dataframe thead th {\n",
       "        text-align: right;\n",
       "    }\n",
       "</style>\n",
       "<table border=\"1\" class=\"dataframe\">\n",
       "  <thead>\n",
       "    <tr style=\"text-align: right;\">\n",
       "      <th></th>\n",
       "      <th>budget</th>\n",
       "      <th>revenue</th>\n",
       "      <th>runtime</th>\n",
       "      <th>vote_average</th>\n",
       "      <th>release_year</th>\n",
       "    </tr>\n",
       "  </thead>\n",
       "  <tbody>\n",
       "    <tr>\n",
       "      <th>count</th>\n",
       "      <td>1.889000e+03</td>\n",
       "      <td>1.889000e+03</td>\n",
       "      <td>1889.000000</td>\n",
       "      <td>1889.000000</td>\n",
       "      <td>1889.000000</td>\n",
       "    </tr>\n",
       "    <tr>\n",
       "      <th>mean</th>\n",
       "      <td>5.431083e+07</td>\n",
       "      <td>1.553653e+08</td>\n",
       "      <td>109.658549</td>\n",
       "      <td>6.140762</td>\n",
       "      <td>2007.860773</td>\n",
       "    </tr>\n",
       "    <tr>\n",
       "      <th>std</th>\n",
       "      <td>4.858721e+07</td>\n",
       "      <td>2.146698e+08</td>\n",
       "      <td>18.017041</td>\n",
       "      <td>0.764763</td>\n",
       "      <td>4.468841</td>\n",
       "    </tr>\n",
       "    <tr>\n",
       "      <th>min</th>\n",
       "      <td>5.000000e+06</td>\n",
       "      <td>2.033165e+06</td>\n",
       "      <td>63.000000</td>\n",
       "      <td>3.300000</td>\n",
       "      <td>2000.000000</td>\n",
       "    </tr>\n",
       "    <tr>\n",
       "      <th>25%</th>\n",
       "      <td>2.000000e+07</td>\n",
       "      <td>3.456058e+07</td>\n",
       "      <td>97.000000</td>\n",
       "      <td>5.600000</td>\n",
       "      <td>2004.000000</td>\n",
       "    </tr>\n",
       "    <tr>\n",
       "      <th>50%</th>\n",
       "      <td>3.800000e+07</td>\n",
       "      <td>8.361541e+07</td>\n",
       "      <td>107.000000</td>\n",
       "      <td>6.100000</td>\n",
       "      <td>2008.000000</td>\n",
       "    </tr>\n",
       "    <tr>\n",
       "      <th>75%</th>\n",
       "      <td>7.200000e+07</td>\n",
       "      <td>1.782626e+08</td>\n",
       "      <td>120.000000</td>\n",
       "      <td>6.600000</td>\n",
       "      <td>2012.000000</td>\n",
       "    </tr>\n",
       "    <tr>\n",
       "      <th>max</th>\n",
       "      <td>3.800000e+08</td>\n",
       "      <td>2.781506e+09</td>\n",
       "      <td>214.000000</td>\n",
       "      <td>8.100000</td>\n",
       "      <td>2015.000000</td>\n",
       "    </tr>\n",
       "  </tbody>\n",
       "</table>\n",
       "</div>"
      ],
      "text/plain": [
       "             budget       revenue      runtime  vote_average  release_year\n",
       "count  1.889000e+03  1.889000e+03  1889.000000   1889.000000   1889.000000\n",
       "mean   5.431083e+07  1.553653e+08   109.658549      6.140762   2007.860773\n",
       "std    4.858721e+07  2.146698e+08    18.017041      0.764763      4.468841\n",
       "min    5.000000e+06  2.033165e+06    63.000000      3.300000   2000.000000\n",
       "25%    2.000000e+07  3.456058e+07    97.000000      5.600000   2004.000000\n",
       "50%    3.800000e+07  8.361541e+07   107.000000      6.100000   2008.000000\n",
       "75%    7.200000e+07  1.782626e+08   120.000000      6.600000   2012.000000\n",
       "max    3.800000e+08  2.781506e+09   214.000000      8.100000   2015.000000"
      ]
     },
     "execution_count": 4,
     "metadata": {},
     "output_type": "execute_result"
    }
   ],
   "source": [
    "data.describe()"
   ]
  },
  {
   "cell_type": "markdown",
   "metadata": {
    "colab_type": "text",
    "id": "DTIt7ezGVp-G"
   },
   "source": [
    "# Предобработка"
   ]
  },
  {
   "cell_type": "code",
   "execution_count": 5,
   "metadata": {
    "colab": {},
    "colab_type": "code",
    "id": "jNb40DwKVp-H"
   },
   "outputs": [],
   "source": [
    "answers = {} # создадим словарь для ответов\n",
    "\n",
    "\n",
    "data['imdb_id'] = ' ('+data['imdb_id']+')' #Модифицируем столбец imdb_id для соответствия формату ответов\n",
    "data['profit'] = data['revenue']-data['budget'] #Расчитываем значение profit\n",
    "data['release_date'] = pd.to_datetime(data['release_date']) #Меняем формат данных в столбце release_date\n",
    "\n",
    "#Создаем новый столбец для хранения месяца выпуска фильма.\n",
    "import calendar\n",
    "data['month'] = data['release_date'].dt.month.apply(lambda x: calendar.month_name[x])\n",
    "\n",
    "#Создаем новые столбцы для хранения длины названия и описания фильма.\n",
    "data['title_len'] = data['original_title'].apply(lambda x: len(x))\n",
    "data['overview_len'] = data['overview'].apply(lambda x: len(x))"
   ]
  },
  {
   "cell_type": "code",
   "execution_count": 6,
   "metadata": {},
   "outputs": [],
   "source": [
    "#Функция для задачи 11\n",
    "#Получает строку, возвращает словарь counter\n",
    "#с количеством уникальных значений.\n",
    "def genres_list(i):\n",
    "    split_i = i.split('|')\n",
    "    counter = collections.Counter()\n",
    "    for genre in split_i:\n",
    "        counter[genre] += 1\n",
    "    return counter"
   ]
  },
  {
   "cell_type": "markdown",
   "metadata": {
    "colab_type": "text",
    "id": "YxZaH-nPVp-L"
   },
   "source": [
    "# 1. У какого фильма из списка самый большой бюджет?"
   ]
  },
  {
   "cell_type": "markdown",
   "metadata": {
    "colab_type": "text",
    "id": "Nd-G5gX6Vp-M"
   },
   "source": [
    "Использовать варианты ответов в коде решения запрещено.    \n",
    "Вы думаете и в жизни у вас будут варианты ответов?)"
   ]
  },
  {
   "cell_type": "code",
   "execution_count": 7,
   "metadata": {},
   "outputs": [],
   "source": [
    "#Записываем в отдельные переменные название и imdb_id фильма,\n",
    "#соответствующего условиям фильта.\n",
    "title_1 = data[data.budget == data.budget.max()]['original_title'].unique()[0]\n",
    "imdb_id_1 = data[data.budget == data.budget.max()]['imdb_id'].unique()[0]\n",
    "\n",
    "#Переменные записываем в словарь с ответами.\n",
    "answers['1'] = title_1+imdb_id_1"
   ]
  },
  {
   "cell_type": "markdown",
   "metadata": {
    "colab_type": "text",
    "id": "FNRbbI3vVp-c"
   },
   "source": [
    "# 2. Какой из фильмов самый длительный (в минутах)?"
   ]
  },
  {
   "cell_type": "code",
   "execution_count": 8,
   "metadata": {},
   "outputs": [],
   "source": [
    "#Записываем в отдельные переменные название и imdb_id фильма,\n",
    "#соответствующего условиям фильта.\n",
    "title_2 = data[data.runtime == data.runtime.max()]['original_title'].unique()[0]\n",
    "imdb_id_2 = data[data.runtime == data.runtime.max()]['imdb_id'].unique()[0]\n",
    "\n",
    "#Переменные записываем в словарь с ответами.\n",
    "answers['2'] = title_2+imdb_id_2"
   ]
  },
  {
   "cell_type": "markdown",
   "metadata": {
    "colab_type": "text",
    "id": "bapLlpW8Vp-k"
   },
   "source": [
    "# 3. Какой из фильмов самый короткий (в минутах)?\n",
    "\n",
    "\n",
    "\n"
   ]
  },
  {
   "cell_type": "code",
   "execution_count": 9,
   "metadata": {
    "colab": {},
    "colab_type": "code",
    "id": "YBxaSHuAVp-l"
   },
   "outputs": [],
   "source": [
    "#Записываем в отдельные переменные название и imdb_id фильма,\n",
    "#соответствующего условиям фильта.\n",
    "title_3 = data[data.runtime == data.runtime.min()]['original_title'].unique()[0]\n",
    "imdb_id_3 = data[data.runtime == data.runtime.min()]['imdb_id'].unique()[0]\n",
    "\n",
    "#Переменные записываем в словарь с ответами.\n",
    "answers['3'] = title_3+imdb_id_3"
   ]
  },
  {
   "cell_type": "markdown",
   "metadata": {
    "colab_type": "text",
    "id": "TfQbxbfNVp-p"
   },
   "source": [
    "# 4. Какова средняя длительность фильмов?\n"
   ]
  },
  {
   "cell_type": "code",
   "execution_count": 10,
   "metadata": {
    "colab": {},
    "colab_type": "code",
    "id": "5K6dKZYVVp-q"
   },
   "outputs": [],
   "source": [
    "#Записываем в словарь с ответами округленное\n",
    "#среднее значение столбца runtime.\n",
    "answers['4'] = round(data.runtime.mean())"
   ]
  },
  {
   "cell_type": "markdown",
   "metadata": {
    "colab_type": "text",
    "id": "r5TvbnT_Vp-u"
   },
   "source": [
    "# 5. Каково медианное значение длительности фильмов? "
   ]
  },
  {
   "cell_type": "code",
   "execution_count": 11,
   "metadata": {
    "colab": {},
    "colab_type": "code",
    "id": "iBROplKnVp-v"
   },
   "outputs": [],
   "source": [
    "#Записываем в словарь с ответами округленное\n",
    "#медианное значение столбца runtime.\n",
    "answers['5'] = round(data.runtime.median())"
   ]
  },
  {
   "cell_type": "markdown",
   "metadata": {
    "colab_type": "text",
    "id": "39P-deDSVp-y"
   },
   "source": [
    "# 6. Какой самый прибыльный фильм?\n",
    "#### Внимание! Здесь и далее под «прибылью» или «убытками» понимается разность между сборами и бюджетом фильма. (прибыль = сборы - бюджет) в нашем датасете это будет (profit = revenue - budget) "
   ]
  },
  {
   "cell_type": "code",
   "execution_count": 12,
   "metadata": {
    "colab": {},
    "colab_type": "code",
    "id": "UYZh4T9WVp-y"
   },
   "outputs": [],
   "source": [
    "#Записываем в отдельные переменные название и imdb_id фильма,\n",
    "#соответствующего условиям фильта.\n",
    "title_6 = data[data.profit == data.profit.max()]['original_title'].unique()[0]\n",
    "imdb_id_6 = data[data.profit == data.profit.max()]['imdb_id'].unique()[0]\n",
    "\n",
    "#Переменные записываем в словарь с ответами.\n",
    "answers['6'] = title_6+imdb_id_6"
   ]
  },
  {
   "cell_type": "markdown",
   "metadata": {
    "colab_type": "text",
    "id": "M99JmIX4Vp-2"
   },
   "source": [
    "# 7. Какой фильм самый убыточный? "
   ]
  },
  {
   "cell_type": "code",
   "execution_count": 13,
   "metadata": {
    "colab": {},
    "colab_type": "code",
    "id": "w-D2m4XPVp-3"
   },
   "outputs": [],
   "source": [
    "#Записываем в отдельные переменные название и imdb_id фильма,\n",
    "#соответствующего условиям фильта.\n",
    "title_7 = data[data.profit == data.profit.min()]['original_title'].unique()[0]\n",
    "imdb_id_7 = data[data.profit == data.profit.min()]['imdb_id'].unique()[0]\n",
    "\n",
    "#Переменные записываем в словарь с ответами.\n",
    "answers['7'] = title_7+imdb_id_7"
   ]
  },
  {
   "cell_type": "markdown",
   "metadata": {
    "colab_type": "text",
    "id": "wEOM5ERVVp-6"
   },
   "source": [
    "# 8. У скольких фильмов из датасета объем сборов оказался выше бюджета?"
   ]
  },
  {
   "cell_type": "code",
   "execution_count": 14,
   "metadata": {
    "colab": {},
    "colab_type": "code",
    "id": "y00_7HD6Vp-7"
   },
   "outputs": [],
   "source": [
    "#Записываем в словарь с ответами количество прибыльных фильмов округленное\n",
    "#(для которых прибыль (revenue) больше бюджета(budget)).\n",
    "answers['8'] = data[data.revenue > data.budget].original_title.count()"
   ]
  },
  {
   "cell_type": "markdown",
   "metadata": {
    "colab_type": "text",
    "id": "xhpspA9KVp_A"
   },
   "source": [
    "# 9. Какой фильм оказался самым кассовым в 2008 году?"
   ]
  },
  {
   "cell_type": "code",
   "execution_count": 15,
   "metadata": {
    "colab": {},
    "colab_type": "code",
    "id": "MoUyQr9RVp_B"
   },
   "outputs": [],
   "source": [
    "#Записываем в отдельные переменные название и imdb_id фильма,\n",
    "#соответствующего условиям фильта.\n",
    "title_9 = data[(data.release_year == 2008)\\\n",
    "               &(data.profit == data.groupby(['release_year']).\\\n",
    "                 profit.max()[2008])]['original_title'].unique()[0]\n",
    "imdb_id_9 = data[(data.release_year == 2008)\\\n",
    "                 &(data.profit == data.groupby(['release_year']).\\\n",
    "                   profit.max()[2008])]['imdb_id'].unique()[0]\n",
    "\n",
    "#Переменные записываем в словарь с ответами.\n",
    "answers['9'] = title_9+imdb_id_9"
   ]
  },
  {
   "cell_type": "markdown",
   "metadata": {
    "colab_type": "text",
    "id": "Zi4hDKidVp_F"
   },
   "source": [
    "# 10. Самый убыточный фильм за период с 2012 по 2014 г. (включительно)?\n"
   ]
  },
  {
   "cell_type": "code",
   "execution_count": 16,
   "metadata": {
    "colab": {},
    "colab_type": "code",
    "id": "XqyRmufJVp_F"
   },
   "outputs": [],
   "source": [
    "#Создаем новый df с фильмами, вышедшими только с 2012 по 2014 гг (включительно).\n",
    "data_12_14 = data[(data.release_year>=2012)|(data.release_year<=2014)]\n",
    "\n",
    "#Записываем в отдельные переменные название и imdb_id фильма,\n",
    "#соответствующего условиям фильта.\n",
    "title_10 = data_12_14[data_12_14.profit == data_12_14.profit.min()]\\\n",
    "                     ['original_title'].unique()[0]\n",
    "imdb_id_10 = data_12_14[data_12_14.profit == data_12_14.profit.min()]\\\n",
    "                       ['imdb_id'].unique()[0]\n",
    "\n",
    "#Переменные записываем в словарь с ответами.\n",
    "answers['10'] = title_10+imdb_id_10"
   ]
  },
  {
   "cell_type": "markdown",
   "metadata": {
    "colab_type": "text",
    "id": "EA7Sa9dkVp_I"
   },
   "source": [
    "# 11. Какого жанра фильмов больше всего?"
   ]
  },
  {
   "cell_type": "code",
   "execution_count": 17,
   "metadata": {},
   "outputs": [],
   "source": [
    "#Создаем список со всеми жанрами, включая повторы.\n",
    "genres = data.genres.str.cat(sep='|').split('|')\n",
    "\n",
    "#Используем словарь Counter для подсчета встречаемости\n",
    "#каждого жанра в словаре.\n",
    "#Отбираем наиболее часто встречающуюся пару ключ-значение.\n",
    "#Добавляем в ответ ключ этой пары.\n",
    "answers['11'] = collections.Counter(genres).most_common(1)[0][0]"
   ]
  },
  {
   "cell_type": "markdown",
   "metadata": {
    "colab_type": "text",
    "id": "Ax6g2C8SVp_M"
   },
   "source": [
    "ВАРИАНТ 2"
   ]
  },
  {
   "cell_type": "code",
   "execution_count": 33,
   "metadata": {
    "colab": {},
    "colab_type": "code",
    "id": "otO3SbrSVp_N"
   },
   "outputs": [
    {
     "data": {
      "text/plain": [
       "'Drama'"
      ]
     },
     "execution_count": 33,
     "metadata": {},
     "output_type": "execute_result"
    }
   ],
   "source": [
    "#Создаем пустой словарь Counter для добавления в него\n",
    "#списка жанров из строки, который возвращает функция top_genres/\n",
    "genres_counter = collections.Counter()\n",
    "for line in data['genres']:\n",
    "    genres_counter += genres_list(line)\n",
    "    \n",
    "#Преобразуем словарь Counter в Series,\n",
    "#сортируем и первый (0-й) индекс записываем в словарь с ответами.\n",
    "answers['11'] = pd.Series(genres_counter).sort_values(ascending=False).index[0]"
   ]
  },
  {
   "cell_type": "markdown",
   "metadata": {
    "colab_type": "text",
    "id": "T9_bPWpkVp_Q"
   },
   "source": [
    "# 12. Фильмы какого жанра чаще всего становятся прибыльными? "
   ]
  },
  {
   "cell_type": "code",
   "execution_count": 18,
   "metadata": {},
   "outputs": [],
   "source": [
    "#Создаем список жанров для прибыльных фильмов, у которых profit>0.\n",
    "genres_profit = data[data.profit>0].genres.str.cat(sep='|').split('|')\n",
    "\n",
    "#Передаем список жанров в словарь Counter\n",
    "#для подсчета частоты каждого вхождения.\n",
    "#Отбираем наиболее часто встречающуюся пару ключ-значение.\n",
    "#Добавляем в ответ ключ этой пары.\n",
    "answers['12'] = collections.Counter(genres_profit).most_common(1)[0][0]"
   ]
  },
  {
   "cell_type": "markdown",
   "metadata": {
    "colab_type": "text",
    "id": "0F23bgsDVp_U"
   },
   "source": [
    "# 13. У какого режиссера самые большие суммарные кассовые сбооры?"
   ]
  },
  {
   "cell_type": "code",
   "execution_count": 19,
   "metadata": {
    "colab": {},
    "colab_type": "code",
    "id": "K6Z3J8ygVp_X"
   },
   "outputs": [],
   "source": [
    "#Создаем список всех режиссеров.\n",
    "directors = data.director.str.cat(sep='|').split('|')\n",
    "\n",
    "#Создаем pd.Series из словаря, в котором\n",
    "#ключь - имя режиссера из списка,\n",
    "#значение - сумма кассовых сборов (revenue) всех фильмов\n",
    "#данного режиссера (режисер встречается в director).\n",
    "#Сортируем Series и записываем индекс первой строки (0ой) в словарь с ответами.\n",
    "answers['13'] = pd.Series({x: sum(data[data.director.str.contains(x)].revenue)\n",
    "           for x in directors}).sort_values(ascending=False).index[0]"
   ]
  },
  {
   "cell_type": "markdown",
   "metadata": {
    "colab_type": "text",
    "id": "PsYC9FgRVp_a"
   },
   "source": [
    "# 14. Какой режисер снял больше всего фильмов в стиле Action?"
   ]
  },
  {
   "cell_type": "code",
   "execution_count": 20,
   "metadata": {},
   "outputs": [],
   "source": [
    "#Создаем список режиссеров фильмов,\n",
    "#для которых среди жанров указано Action.\n",
    "directors_action = data[data.genres.str.contains('Action')].\\\n",
    "                        director.str.cat(sep='|').split('|')\n",
    "\n",
    "#Передаем список режиссеров в словарь Counter\n",
    "#для подсчета значений каждого вхождения.\n",
    "#Находим самую распространенную пару ключ-значение\n",
    "#и записываем ключь этой пары в словарь с ответами.\n",
    "answers['14'] = collections.Counter(directors_action).most_common(1)[0][0]"
   ]
  },
  {
   "cell_type": "markdown",
   "metadata": {
    "colab_type": "text",
    "id": "PQ0KciD7Vp_f"
   },
   "source": [
    "# 15. Фильмы с каким актером принесли самые высокие кассовые сборы в 2012 году? "
   ]
  },
  {
   "cell_type": "code",
   "execution_count": 21,
   "metadata": {
    "colab": {},
    "colab_type": "code",
    "id": "aga62oeKVp_g"
   },
   "outputs": [
    {
     "name": "stderr",
     "output_type": "stream",
     "text": [
      "C:\\Users\\axgav\\anaconda3\\lib\\site-packages\\ipykernel_launcher.py:13: UserWarning: Boolean Series key will be reindexed to match DataFrame index.\n",
      "  del sys.path[0]\n"
     ]
    }
   ],
   "source": [
    "#Создаем новый df из фильмов, выпущенных в 2012 г.\n",
    "data_2012 = data[data.release_year == 2012]\n",
    "\n",
    "#Создаем список актеров по новому df.\n",
    "casts = data_2012.cast.str.cat(sep='|').split('|')\n",
    "\n",
    "#Создаем pd.Series из словаря, в котором\n",
    "#ключь - имя актера из списка,\n",
    "#значение - сумма сборов (revenue) всех фильмов данного актера,\n",
    "#(актер встречается в cast фильма) из нового df.\n",
    "#Сортируем Series и записываем индекс первой строки (0ой) в словарь с ответами.\n",
    "answers['15'] = pd.Series({x: sum(data_2012[data.cast.str.contains(x)].revenue)\n",
    "           for x in casts}).sort_values(ascending=False).index[0]"
   ]
  },
  {
   "cell_type": "markdown",
   "metadata": {
    "colab_type": "text",
    "id": "mWHyyL7QVp_j"
   },
   "source": [
    "# 16. Какой актер снялся в большем количестве высокобюджетных фильмов?"
   ]
  },
  {
   "cell_type": "code",
   "execution_count": 23,
   "metadata": {},
   "outputs": [],
   "source": [
    "#Создаем спипсок актеров, снимавшихся в фильмах,\n",
    "#бюджет которых выше среднего.\n",
    "casts = data[data.budget > data.budget.mean()].cast.str.cat(sep='|').split('|')\n",
    "\n",
    "#Передаем список актеров в словарь Counter\n",
    "#для подсчета значений каждого вхождения.\n",
    "#Находим самую распространенную пару ключ-значение\n",
    "#и записываем ключь этой пары в словарь с ответами.\n",
    "answers['16'] = collections.Counter(casts).most_common(1)[0][0]"
   ]
  },
  {
   "cell_type": "markdown",
   "metadata": {
    "colab_type": "text",
    "id": "NIh6AaW5Vp_n"
   },
   "source": [
    "# 17. В фильмах какого жанра больше всего снимался Nicolas Cage? "
   ]
  },
  {
   "cell_type": "code",
   "execution_count": 24,
   "metadata": {
    "colab": {},
    "colab_type": "code",
    "id": "H74SJDIBVp_n"
   },
   "outputs": [],
   "source": [
    "#Создаем спипсок жанров фильмов,\n",
    "#в которых снимался Nicolas Cage.\n",
    "genres_17 = data[data.cast.str.contains('Nicolas Cage')].genres.str.cat(sep='|').split('|')\n",
    "\n",
    "#Передаем список жанров в словарь Counter\n",
    "#для подсчета значений каждого вхождения.\n",
    "#Находим самую распространенную пару ключ-значение\n",
    "#и записываем ключь этой пары в словарь с ответами.\n",
    "answers['17'] = collections.Counter(genres_17).most_common(1)[0][0]"
   ]
  },
  {
   "cell_type": "markdown",
   "metadata": {
    "colab_type": "text",
    "id": "RqOmPRfWVp_q"
   },
   "source": [
    "# 18. Самый убыточный фильм от Paramount Pictures"
   ]
  },
  {
   "cell_type": "code",
   "execution_count": 25,
   "metadata": {
    "colab": {},
    "colab_type": "code",
    "id": "9E_B0Y96Vp_r"
   },
   "outputs": [],
   "source": [
    "#Создаем новый df только из фильмов, снятых Paramount Pictures.\n",
    "data_paramount = data[data.production_companies.str.contains('Paramount Pictures')]\n",
    "\n",
    "#Записываем в отдельные переменные название и imdb_id фильма с минимальной прибылью.\n",
    "title_18 = data_paramount[data_paramount.profit\n",
    "                          == data_paramount.profit.min()]['original_title'].unique()[0]\n",
    "imdb_id_18 = data_paramount[data_paramount.profit\n",
    "                            == data_paramount.profit.min()]['imdb_id'].unique()[0]\n",
    "\n",
    "#Переменные записываем в словарь с ответами.\n",
    "answers['18'] = title_18+imdb_id_18"
   ]
  },
  {
   "cell_type": "markdown",
   "metadata": {
    "colab_type": "text",
    "id": "vS8Ur6ddVp_u"
   },
   "source": [
    "# 19. Какой год стал самым успешным по суммарным кассовым сборам?"
   ]
  },
  {
   "cell_type": "code",
   "execution_count": 26,
   "metadata": {
    "colab": {},
    "colab_type": "code",
    "id": "Dnbt4GdIVp_v"
   },
   "outputs": [],
   "source": [
    "#Группируем данные по году и считаем\n",
    "#для каждой группы сумму по столбцу revenue.\n",
    "#Сортируем группы и индекс первой строки\n",
    "#записываем в словарь с ответами.\n",
    "answers['19'] = data.groupby(['release_year'])['revenue'].sum().sort_values(ascending=False).index[0]"
   ]
  },
  {
   "cell_type": "markdown",
   "metadata": {
    "colab_type": "text",
    "id": "JAzJh4QAVp_z"
   },
   "source": [
    "# 20. Какой самый прибыльный год для студии Warner Bros?"
   ]
  },
  {
   "cell_type": "code",
   "execution_count": 27,
   "metadata": {
    "colab": {},
    "colab_type": "code",
    "id": "wgVu02DEVp_0"
   },
   "outputs": [],
   "source": [
    "#Группируем фильмы, снятые Warner Bros по году,\n",
    "#считаем для каждой группы сумму по столбцу profit.\n",
    "#Сортируем группы и индекс первой строки\n",
    "#записываем в словарь с ответами.\n",
    "answers['20'] = data[data.production_companies.str.contains('Warner Bros')].\\\n",
    "                     groupby(['release_year'])['profit'].sum().\\\n",
    "                     sort_values(ascending=False).index[0]"
   ]
  },
  {
   "cell_type": "markdown",
   "metadata": {
    "colab_type": "text",
    "id": "8Im1S2HRVp_4"
   },
   "source": [
    "# 21. В каком месяце за все годы суммарно вышло больше всего фильмов?"
   ]
  },
  {
   "cell_type": "code",
   "execution_count": 28,
   "metadata": {
    "colab": {},
    "colab_type": "code",
    "id": "lev6TH7gVp_4"
   },
   "outputs": [],
   "source": [
    "#Группируем фильмы по месяцу, когда они были выпущены,\n",
    "#считаем количество фильмов в каждой группе.\n",
    "#Сортируем группы и индекс первой строки\n",
    "#записываем в словарь с ответами.\n",
    "answers['21'] = data.groupby(['month'])['original_title'].count().sort_values(ascending=False).index[0]"
   ]
  },
  {
   "cell_type": "markdown",
   "metadata": {
    "colab_type": "text",
    "id": "uAJsZ_NeVp_7"
   },
   "source": [
    "# 22. Сколько суммарно вышло фильмов летом? (за июнь, июль, август)"
   ]
  },
  {
   "cell_type": "code",
   "execution_count": 29,
   "metadata": {
    "colab": {},
    "colab_type": "code",
    "id": "Aa-hEREoVp_8"
   },
   "outputs": [],
   "source": [
    "#Записываем в словарь с ответами длину df,\n",
    "#отобранного по условию соответствия названия месяца\n",
    "#одному из летних месяцев.\n",
    "answers['22'] = len(data[(data['month']=='June')|(data['month']=='July')|(data['month']=='August')])"
   ]
  },
  {
   "cell_type": "markdown",
   "metadata": {
    "colab_type": "text",
    "id": "G94ppOY1VqAA"
   },
   "source": [
    "# 23. Для какого режиссера зима – самое продуктивное время года? "
   ]
  },
  {
   "cell_type": "code",
   "execution_count": 30,
   "metadata": {
    "colab": {},
    "colab_type": "code",
    "id": "RhNTsamuVqAB"
   },
   "outputs": [],
   "source": [
    "#Создаем спипсок режиссеров,\n",
    "#фильмы которых выходили в один из зимних месяцев.\n",
    "directors = data[(data['month']=='December')|(data['month']=='January')|(data['month']=='February')].\\\n",
    "                 director.str.cat(sep='|').split('|')\n",
    "\n",
    "#Передаем список режиссеров в словарь Counter\n",
    "#для подсчета значений каждого вхождения.\n",
    "#Находим самую распространенную пару ключ-значение\n",
    "#и записываем ключь этой пары в словарь с ответами.\n",
    "answers['23'] = collections.Counter(directors).most_common(1)[0][0]"
   ]
  },
  {
   "cell_type": "markdown",
   "metadata": {
    "colab_type": "text",
    "id": "RBo0JVjVVqAF"
   },
   "source": [
    "# 24. Какая студия дает самые длинные названия своим фильмам по количеству символов?"
   ]
  },
  {
   "cell_type": "code",
   "execution_count": 31,
   "metadata": {
    "colab": {},
    "colab_type": "code",
    "id": "QRGS8L0iVqAG"
   },
   "outputs": [
    {
     "name": "stderr",
     "output_type": "stream",
     "text": [
      "C:\\Users\\axgav\\anaconda3\\lib\\site-packages\\pandas\\core\\strings.py:1952: UserWarning: This pattern has match groups. To actually get the groups, use str.extract.\n",
      "  return func(self, *args, **kwargs)\n"
     ]
    }
   ],
   "source": [
    "#Создаем список студий.\n",
    "production_companies = data.production_companies.str.cat(sep='|').split('|')\n",
    "\n",
    "#Создаем pd.Series из словаря, в котором\n",
    "#ключь - название студии из списка,\n",
    "#значение - среднее длины названий фильмов этой студии,\n",
    "#(студия встречается в production_companies фильма).\n",
    "#Сортируем Series и записываем индекс первой строки (0ой) в словарь с ответами.\n",
    "answers['24'] = pd.Series({x: data[data.production_companies.str.contains(x)].title_len.mean()\n",
    "           for x in production_companies}).sort_values(ascending=False).index[0]"
   ]
  },
  {
   "cell_type": "markdown",
   "metadata": {
    "colab_type": "text",
    "id": "9G0hbvR7VqAK"
   },
   "source": [
    "# 25. Описание фильмов какой студии в среднем самые длинные по количеству слов?"
   ]
  },
  {
   "cell_type": "code",
   "execution_count": 32,
   "metadata": {
    "colab": {},
    "colab_type": "code",
    "id": "Ge2GsLNxVqAK"
   },
   "outputs": [],
   "source": [
    "#Создаем список студий.\n",
    "production_companies = data.production_companies.str.cat(sep='|').split('|')\n",
    "\n",
    "#Создаем pd.Series из словаря, в котором\n",
    "#ключь - название студии из списка,\n",
    "#значение - среднее длинна названий фильмов,\n",
    "#которые создала студия (студия встречается в production_companies).\n",
    "#Сортируем Series и в словарь с ответами записывается индекс первой строки (0ой).\n",
    "answers['25'] = pd.Series({x: data[data.production_companies.str.contains(x)].\\\n",
    "                           overview_len.mean() for x in production_companies}).\\\n",
    "                            sort_values(ascending=False).index[0]"
   ]
  },
  {
   "cell_type": "markdown",
   "metadata": {
    "colab_type": "text",
    "id": "FJ1AFt90VqAP"
   },
   "source": [
    "# 26. Какие фильмы входят в 1 процент лучших по рейтингу? \n",
    "по vote_average"
   ]
  },
  {
   "cell_type": "code",
   "execution_count": 34,
   "metadata": {
    "colab": {},
    "colab_type": "code",
    "id": "8qmJVq4CVqAQ"
   },
   "outputs": [],
   "source": [
    "#В словарь с ответами записывается список названий фильмов,\n",
    "#значение средней оценки которых выше или равно\n",
    "#значению фильмов в 99-ом квантиле.\n",
    "#Параметр функции quantile 0.993 определен эмпирически:\n",
    "#при использовании параметра 0.99 в выводе больше фильмов,\n",
    "#что усложняет посик правильного ответа для теста.\n",
    "answers['26'] = list(data[data.vote_average >= data.vote_average.quantile(0.993)].original_title)"
   ]
  },
  {
   "cell_type": "markdown",
   "metadata": {
    "colab_type": "text",
    "id": "MdXsUXbCVqAV"
   },
   "source": [
    "# 27. Какие актеры чаще всего снимаются в одном фильме вместе?\n"
   ]
  },
  {
   "cell_type": "code",
   "execution_count": 35,
   "metadata": {},
   "outputs": [],
   "source": [
    "#Создаем список имен актеров без повторов.\n",
    "casts = list(collections.Counter(data.cast.str.cat(sep='|').split('|')).keys())\n",
    "\n",
    "#Создаем пустой массив, где индексы строк и названия столбцов - имена актеров.\n",
    "df = pd.DataFrame([], index = casts, columns = casts)\n",
    "\n",
    "#Заполняем пропуски 0, чтобы проще было делать расчеты.\n",
    "df = df.fillna(0)\n",
    "\n",
    "#Перебираем все строки в столбце cast.\n",
    "#В ячейки добавляем количество раз, когда\n",
    "#актер из столбца и строки снимались вместе.\n",
    "for line in data['cast']:\n",
    "#    film_cast = list(data.cast.str.cat(sep='|').split('|'))\n",
    "    film_cast = line.split('|')\n",
    "    for col_name in film_cast:\n",
    "        for index_name in film_cast:\n",
    "            if col_name == index_name:\n",
    "                continue\n",
    "            else:\n",
    "                df.loc[index_name][col_name] += 1\n",
    "\n",
    "#Находим максимальные значения по строкам, сортируем, записываем в Series.\n",
    "max_by_line = pd.Series(df.max().sort_values(ascending=False).head())\n",
    "\n",
    "#Отбираем индексы, имеющие максимальные значения\n",
    "#(должно быть не менее 2х)\n",
    "#индекса записываем их в список, а его в словарь с ответами.\n",
    "answer = list(max_by_line[max_by_line==max_by_line.max()].index)\n",
    "answers['27'] = answer\n",
    "\n",
    "#В данном случае 3 актера имеют\n",
    "#одинаковое число совместных (с кем-то, не обязательно друг с другом)\n",
    "#фильмов. Записываем их всех в словарь,\n",
    "#выбираем подходящий вариант ответа из имеющихся в тесте."
   ]
  },
  {
   "cell_type": "markdown",
   "metadata": {},
   "source": [
    "ВАРИАНТ 2"
   ]
  },
  {
   "cell_type": "code",
   "execution_count": 142,
   "metadata": {},
   "outputs": [],
   "source": [
    "#РАБОТАЕТ ДОЛГО!\n",
    "\n",
    "#Общая идея: создаем список всех актеров, \n",
    "#затем для каждого актера обходим весь df по столбцу cast,\n",
    "#ищем фильмы, в которых снимался данных актер.\n",
    "#Для всех фильмов, где снимался актер,\n",
    "#записываем других актеров, кроме того, по которому щел поиск, \n",
    "#в общий список и считаем частоту встречаемости для каждого.\n",
    "\n",
    "#Создаем список имен актеров без повторов.\n",
    "casts = list(collections.Counter(data.cast.str.cat(sep='|').split('|')).keys())\n",
    "\n",
    "#Создаем пустой словарь: ключь - имя актера;\n",
    "#значения - словарь из имен актеров, снимавшихся с ним во всех фильмах\n",
    "#и частоты их встречаемости.\n",
    "actors = {}\n",
    "\n",
    "#Цикл для заполнения словаря actors.\n",
    "for actor in casts:\n",
    "    partners = []\n",
    "    for i in range(len(data)):\n",
    "        if actor in data.cast[i].split('|'):\n",
    "            partners += data.cast[i].split('|')\n",
    "    while partners.count(actor) != 0: #Цикл для удаления из списка актера по которому шел поиск.\n",
    "        partners.remove(actor)\n",
    "    actors[actor]=dict(collections.Counter(partners))"
   ]
  },
  {
   "cell_type": "code",
   "execution_count": 156,
   "metadata": {},
   "outputs": [
    {
     "name": "stdout",
     "output_type": "stream",
     "text": [
      "Daniel Radcliffe Rupert Grint 8\n"
     ]
    }
   ],
   "source": [
    "#Обходим словарь и находим максимальное число.\n",
    "#Создаем пустые переменные, в которые будем записывать параменты найденного максимума.\n",
    "actor_1 = ''\n",
    "actor_2 = ''\n",
    "count = 0\n",
    "\n",
    "#Цикл обхода словаря для поиска максимального числа совметных фильмов.\n",
    "for i, j in actors.items():\n",
    "    for n, m in j.items():\n",
    "        if m > count:\n",
    "            count = m\n",
    "            actor_1 = i\n",
    "            actor_2 = n\n",
    "\n",
    "#Добавляем ответ в словать с ответами\n",
    "answers['27'] = actor_1+' & '+actor_2\n",
    "\n",
    "#Важно! Вероятно, данный вариант решения чувствителен к порядку актеров в словаре.\n",
    "#Если бы сначала встретилась пара не Daniel Radcliffe & Rupert Grint,\n",
    "#а Emma Watson & Daniel Radcliffe или Emma Watson & Rupert Grint,\n",
    "#то верный ответ (для теста, т.к. все ответы, видимо, верные) не получится."
   ]
  },
  {
   "cell_type": "markdown",
   "metadata": {
    "colab_type": "text",
    "id": "U0nONFnGVqAX"
   },
   "source": [
    "# Submission"
   ]
  },
  {
   "cell_type": "code",
   "execution_count": 38,
   "metadata": {
    "colab": {},
    "colab_type": "code",
    "id": "IfcaRO9-VqAX",
    "outputId": "0f132912-32bb-4196-c98c-abfbc4ad5a5f"
   },
   "outputs": [
    {
     "data": {
      "text/plain": [
       "{'1': 'Pirates of the Caribbean: On Stranger Tides (tt1298650)',\n",
       " '2': 'Gods and Generals (tt0279111)',\n",
       " '3': 'Winnie the Pooh (tt1449283)',\n",
       " '4': 110,\n",
       " '5': 107,\n",
       " '6': 'Avatar (tt0499549)',\n",
       " '7': 'The Lone Ranger (tt1210819)',\n",
       " '8': 1478,\n",
       " '9': 'The Dark Knight (tt0468569)',\n",
       " '10': 'The Lone Ranger (tt1210819)',\n",
       " '11': 'Drama',\n",
       " '12': 'Drama',\n",
       " '13': 'Peter Jackson',\n",
       " '14': 'Robert Rodriguez',\n",
       " '15': 'Chris Hemsworth',\n",
       " '16': 'Matt Damon',\n",
       " '17': 'Action',\n",
       " '18': 'K-19: The Widowmaker (tt0267626)',\n",
       " '19': 2015,\n",
       " '20': 2014,\n",
       " '21': 'September',\n",
       " '22': 450,\n",
       " '23': 'Peter Jackson',\n",
       " '24': 'Four By Two Productions',\n",
       " '25': 'Midnight Picture Show',\n",
       " '26': ['Inside Out',\n",
       "  'Room',\n",
       "  'Interstellar',\n",
       "  'Guardians of the Galaxy',\n",
       "  'The Imitation Game',\n",
       "  'Gone Girl',\n",
       "  'The Grand Budapest Hotel',\n",
       "  'Inception',\n",
       "  'The Dark Knight',\n",
       "  'The Pianist',\n",
       "  'The Lord of the Rings: The Return of the King',\n",
       "  'The Wolf of Wall Street',\n",
       "  '12 Years a Slave',\n",
       "  'Memento'],\n",
       " '27': ['Emma Watson', 'Daniel Radcliffe', 'Rupert Grint']}"
      ]
     },
     "execution_count": 38,
     "metadata": {},
     "output_type": "execute_result"
    }
   ],
   "source": [
    "# в конце можно посмотреть свои ответы к каждому вопросу\n",
    "answers"
   ]
  },
  {
   "cell_type": "code",
   "execution_count": 37,
   "metadata": {
    "colab": {},
    "colab_type": "code",
    "id": "SiRmHPl8VqAd"
   },
   "outputs": [
    {
     "data": {
      "text/plain": [
       "27"
      ]
     },
     "execution_count": 37,
     "metadata": {},
     "output_type": "execute_result"
    }
   ],
   "source": [
    "# и убедиться что ни чего не пропустил)\n",
    "len(answers)"
   ]
  }
 ],
 "metadata": {
  "colab": {
   "name": "Copy of [SF-DST] Movies IMBD v4.1 TEMPLATE.ipynb",
   "provenance": []
  },
  "kernelspec": {
   "display_name": "Python 3",
   "language": "python",
   "name": "python3"
  },
  "language_info": {
   "codemirror_mode": {
    "name": "ipython",
    "version": 3
   },
   "file_extension": ".py",
   "mimetype": "text/x-python",
   "name": "python",
   "nbconvert_exporter": "python",
   "pygments_lexer": "ipython3",
   "version": "3.7.6"
  }
 },
 "nbformat": 4,
 "nbformat_minor": 1
}
