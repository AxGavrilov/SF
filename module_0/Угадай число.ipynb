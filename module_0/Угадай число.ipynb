{
 "cells": [
  {
   "cell_type": "code",
   "execution_count": 2,
   "metadata": {},
   "outputs": [
    {
     "name": "stdout",
     "output_type": "stream",
     "text": [
      "Ваш алгоритм угадывает число в среднем за 8 попыток\n"
     ]
    },
    {
     "data": {
      "text/plain": [
       "8"
      ]
     },
     "execution_count": 2,
     "metadata": {},
     "output_type": "execute_result"
    }
   ],
   "source": [
    "import numpy as np\n",
    "\n",
    "def score_game(game_core):\n",
    "    '''Запускаем игру 1000 раз, расчитываем среднее значение количества попыток, необходимых для отгадывания числа'''\n",
    "    \n",
    "    # Создаем пустой список, чтобы добалять в него количество попыток после каждого запуска\n",
    "    count_ls = [] \n",
    "    \n",
    "    # фиксируем RANDOM SEED, чтобы ваш эксперимент был воспроизводим!\n",
    "    np.random.seed(1)  \n",
    "    \n",
    "    # Создаем массив из 1000 случайных чисел из диапазона 1-100\n",
    "    random_array = np.random.randint(1,101, size=(1000)) \n",
    "    \n",
    "    # Подставляем поочередно 1000 полученных случаных значений в функцию game_core_v1 для определения количества попыток до угадывания.\n",
    "    # Добавляем количество попыток в пустой словарь count_ls\n",
    "    for number in random_array:  \n",
    "        count_ls.append(game_core(number))\n",
    "    \n",
    "    # Считаем среднее количество попыток до угадывания.\n",
    "    score = int(np.mean(count_ls))\n",
    "    \n",
    "    print(f\"Ваш алгоритм угадывает число в среднем за {score} попыток\")\n",
    "    return(score)\n",
    "\n",
    "def game_core_v1(number):\n",
    "    '''Сначала берем число из всего диапазона от 1 до 100, потом сокращаем диапазон генерации случайных чисел\n",
    "    в зависимоти от того больше или меньше угаданное число загаданного'''\n",
    "    \n",
    "    #Счетчик количества попыток\n",
    "    count = 1 \n",
    "    \n",
    "    n = 1 #Начальная нижняя граница диапазона генерации случайных чисел\n",
    "    m = 101 #Начальная верхняя граница диапазона генерации случайных чисел\n",
    "    \n",
    "    predict = np.random.randint(n,m) #Начальное \"угаданное\" число в границах диапазона генерации случайных чисел.\n",
    "    \n",
    "    while number != predict:\n",
    "        count+=1\n",
    "        if number > predict: #Если \"угаданное\" число меньше \"загаданного\", то меняем нижнюю границу диапазона выбора случаного числа\n",
    "            n = predict\n",
    "            predict = np.random.randint(n,m)\n",
    "        elif number < predict: #Если \"угаданное\" число меньше \"загаданного\", то меняем верхнюю границу диапазона выбора случаного числа\n",
    "            m = predict\n",
    "            predict = np.random.randint(n,m)\n",
    "    return(count) # выход из цикла, если угадали\n",
    "\n",
    "score_game(game_core_v1)\n"
   ]
  }
 ],
 "metadata": {
  "kernelspec": {
   "display_name": "Python 3",
   "language": "python",
   "name": "python3"
  },
  "language_info": {
   "codemirror_mode": {
    "name": "ipython",
    "version": 3
   },
   "file_extension": ".py",
   "mimetype": "text/x-python",
   "name": "python",
   "nbconvert_exporter": "python",
   "pygments_lexer": "ipython3",
   "version": "3.7.6"
  }
 },
 "nbformat": 4,
 "nbformat_minor": 4
}
